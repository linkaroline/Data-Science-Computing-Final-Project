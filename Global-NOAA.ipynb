{
 "cells": [
  {
   "cell_type": "markdown",
   "metadata": {},
   "source": [
    "### QTM 350 Project\n",
    "### Using Global NOAA to Analyze Change in our Climate and Society\n",
    "\n",
    "##### by Karoline Lin, Rachel Shanahan, John Cox, Erin O'Reilly, Hayley Roesler\n",
    "##### on April 27, 2020\n"
   ]
  },
  {
   "cell_type": "code",
   "execution_count": 1,
   "metadata": {},
   "outputs": [
    {
     "name": "stdout",
     "output_type": "stream",
     "text": [
      "Collecting jupyterthemes\n",
      "\u001b[?25l  Downloading https://files.pythonhosted.org/packages/8a/08/9dee6dfd7f2aad6c30282d55c8f495b4dc1e4747b4e2bdbeb80572ddf312/jupyterthemes-0.20.0-py2.py3-none-any.whl (7.0MB)\n",
      "\u001b[K    100% |████████████████████████████████| 7.0MB 4.2MB/s eta 0:00:01\n",
      "\u001b[?25hCollecting notebook>=5.6.0 (from jupyterthemes)\n",
      "\u001b[?25l  Downloading https://files.pythonhosted.org/packages/f6/36/89ebfffc9dd8c8dbd81c1ffb53e3d4233ee666414c143959477cb07cc5f5/notebook-5.7.8-py2.py3-none-any.whl (9.0MB)\n",
      "\u001b[K    100% |████████████████████████████████| 9.0MB 2.6MB/s eta 0:00:01\n",
      "\u001b[?25hRequirement already satisfied: ipython>=5.4.1 in /home/ec2-user/anaconda3/envs/amazonei_mxnet_p27/lib/python2.7/site-packages (from jupyterthemes) (5.7.0)\n",
      "Requirement already satisfied: jupyter-core in /home/ec2-user/anaconda3/envs/amazonei_mxnet_p27/lib/python2.7/site-packages (from jupyterthemes) (4.4.0)\n",
      "Requirement already satisfied: matplotlib>=1.4.3 in /home/ec2-user/anaconda3/envs/amazonei_mxnet_p27/lib/python2.7/site-packages (from jupyterthemes) (2.2.2)\n",
      "Collecting lesscpy>=0.11.2 (from jupyterthemes)\n",
      "\u001b[?25l  Downloading https://files.pythonhosted.org/packages/f8/d2/665cda6614e3556eaeb7553a3a2963624c2e3bc9636777a1bb654b87b027/lesscpy-0.14.0-py2.py3-none-any.whl (46kB)\n",
      "\u001b[K    100% |████████████████████████████████| 51kB 25.1MB/s ta 0:00:01\n",
      "\u001b[?25hRequirement already satisfied: jupyter-client>=5.2.0 in /home/ec2-user/anaconda3/envs/amazonei_mxnet_p27/lib/python2.7/site-packages (from notebook>=5.6.0->jupyterthemes) (5.2.3)\n",
      "Requirement already satisfied: nbformat in /home/ec2-user/anaconda3/envs/amazonei_mxnet_p27/lib/python2.7/site-packages (from notebook>=5.6.0->jupyterthemes) (4.4.0)\n",
      "Requirement already satisfied: ipython-genutils in /home/ec2-user/anaconda3/envs/amazonei_mxnet_p27/lib/python2.7/site-packages (from notebook>=5.6.0->jupyterthemes) (0.2.0)\n",
      "Requirement already satisfied: terminado>=0.8.1 in /home/ec2-user/anaconda3/envs/amazonei_mxnet_p27/lib/python2.7/site-packages (from notebook>=5.6.0->jupyterthemes) (0.8.1)\n",
      "Requirement already satisfied: Send2Trash in /home/ec2-user/anaconda3/envs/amazonei_mxnet_p27/lib/python2.7/site-packages (from notebook>=5.6.0->jupyterthemes) (1.5.0)\n",
      "Requirement already satisfied: ipykernel in /home/ec2-user/anaconda3/envs/amazonei_mxnet_p27/lib/python2.7/site-packages (from notebook>=5.6.0->jupyterthemes) (4.8.2)\n",
      "Requirement already satisfied: pyzmq>=17 in /home/ec2-user/anaconda3/envs/amazonei_mxnet_p27/lib/python2.7/site-packages (from notebook>=5.6.0->jupyterthemes) (17.0.0)\n",
      "Collecting prometheus-client (from notebook>=5.6.0->jupyterthemes)\n",
      "  Downloading https://files.pythonhosted.org/packages/b3/23/41a5a24b502d35a4ad50a5bb7202a5e1d9a0364d0c12f56db3dbf7aca76d/prometheus_client-0.7.1.tar.gz\n",
      "Requirement already satisfied: jinja2 in /home/ec2-user/anaconda3/envs/amazonei_mxnet_p27/lib/python2.7/site-packages (from notebook>=5.6.0->jupyterthemes) (2.10)\n",
      "Requirement already satisfied: tornado<7,>=4.1 in /home/ec2-user/anaconda3/envs/amazonei_mxnet_p27/lib/python2.7/site-packages (from notebook>=5.6.0->jupyterthemes) (5.0.2)\n",
      "Requirement already satisfied: traitlets>=4.2.1 in /home/ec2-user/anaconda3/envs/amazonei_mxnet_p27/lib/python2.7/site-packages (from notebook>=5.6.0->jupyterthemes) (4.3.2)\n",
      "Requirement already satisfied: nbconvert in /home/ec2-user/anaconda3/envs/amazonei_mxnet_p27/lib/python2.7/site-packages (from notebook>=5.6.0->jupyterthemes) (5.4.1)\n",
      "Requirement already satisfied: ipaddress; python_version == \"2.7\" in /home/ec2-user/anaconda3/envs/amazonei_mxnet_p27/lib/python2.7/site-packages (from notebook>=5.6.0->jupyterthemes) (1.0.22)\n",
      "Requirement already satisfied: pathlib2; python_version == \"2.7\" or python_version == \"3.3\" in /home/ec2-user/anaconda3/envs/amazonei_mxnet_p27/lib/python2.7/site-packages (from ipython>=5.4.1->jupyterthemes) (2.3.2)\n",
      "Requirement already satisfied: decorator in /home/ec2-user/anaconda3/envs/amazonei_mxnet_p27/lib/python2.7/site-packages (from ipython>=5.4.1->jupyterthemes) (4.3.0)\n",
      "Requirement already satisfied: backports.shutil-get-terminal-size; python_version == \"2.7\" in /home/ec2-user/anaconda3/envs/amazonei_mxnet_p27/lib/python2.7/site-packages (from ipython>=5.4.1->jupyterthemes) (1.0.0)\n",
      "Requirement already satisfied: simplegeneric>0.8 in /home/ec2-user/anaconda3/envs/amazonei_mxnet_p27/lib/python2.7/site-packages (from ipython>=5.4.1->jupyterthemes) (0.8.1)\n",
      "Requirement already satisfied: pygments in /home/ec2-user/anaconda3/envs/amazonei_mxnet_p27/lib/python2.7/site-packages (from ipython>=5.4.1->jupyterthemes) (2.2.0)\n",
      "Requirement already satisfied: pexpect; sys_platform != \"win32\" in /home/ec2-user/anaconda3/envs/amazonei_mxnet_p27/lib/python2.7/site-packages (from ipython>=5.4.1->jupyterthemes) (4.5.0)\n",
      "Requirement already satisfied: setuptools>=18.5 in /home/ec2-user/anaconda3/envs/amazonei_mxnet_p27/lib/python2.7/site-packages (from ipython>=5.4.1->jupyterthemes) (39.1.0)\n",
      "Requirement already satisfied: prompt-toolkit<2.0.0,>=1.0.4 in /home/ec2-user/anaconda3/envs/amazonei_mxnet_p27/lib/python2.7/site-packages (from ipython>=5.4.1->jupyterthemes) (1.0.15)\n",
      "Requirement already satisfied: pickleshare in /home/ec2-user/anaconda3/envs/amazonei_mxnet_p27/lib/python2.7/site-packages (from ipython>=5.4.1->jupyterthemes) (0.7.4)\n",
      "Requirement already satisfied: numpy>=1.7.1 in /home/ec2-user/anaconda3/envs/amazonei_mxnet_p27/lib/python2.7/site-packages (from matplotlib>=1.4.3->jupyterthemes) (1.14.6)\n",
      "Requirement already satisfied: cycler>=0.10 in /home/ec2-user/anaconda3/envs/amazonei_mxnet_p27/lib/python2.7/site-packages (from matplotlib>=1.4.3->jupyterthemes) (0.10.0)\n",
      "Requirement already satisfied: pyparsing!=2.0.4,!=2.1.2,!=2.1.6,>=2.0.1 in /home/ec2-user/anaconda3/envs/amazonei_mxnet_p27/lib/python2.7/site-packages (from matplotlib>=1.4.3->jupyterthemes) (2.2.0)\n",
      "Requirement already satisfied: python-dateutil>=2.1 in /home/ec2-user/anaconda3/envs/amazonei_mxnet_p27/lib/python2.7/site-packages (from matplotlib>=1.4.3->jupyterthemes) (2.7.3)\n",
      "Requirement already satisfied: pytz in /home/ec2-user/anaconda3/envs/amazonei_mxnet_p27/lib/python2.7/site-packages (from matplotlib>=1.4.3->jupyterthemes) (2018.4)\n",
      "Requirement already satisfied: six>=1.10 in /home/ec2-user/anaconda3/envs/amazonei_mxnet_p27/lib/python2.7/site-packages (from matplotlib>=1.4.3->jupyterthemes) (1.11.0)\n",
      "Requirement already satisfied: kiwisolver>=1.0.1 in /home/ec2-user/anaconda3/envs/amazonei_mxnet_p27/lib/python2.7/site-packages (from matplotlib>=1.4.3->jupyterthemes) (1.0.1)\n",
      "Requirement already satisfied: backports.functools_lru_cache in /home/ec2-user/anaconda3/envs/amazonei_mxnet_p27/lib/python2.7/site-packages (from matplotlib>=1.4.3->jupyterthemes) (1.5)\n",
      "Requirement already satisfied: subprocess32 in /home/ec2-user/anaconda3/envs/amazonei_mxnet_p27/lib/python2.7/site-packages (from matplotlib>=1.4.3->jupyterthemes) (3.5.4)\n",
      "Requirement already satisfied: ply in /home/ec2-user/anaconda3/envs/amazonei_mxnet_p27/lib/python2.7/site-packages (from lesscpy>=0.11.2->jupyterthemes) (3.11)\n",
      "Requirement already satisfied: jsonschema!=2.5.0,>=2.4 in /home/ec2-user/anaconda3/envs/amazonei_mxnet_p27/lib/python2.7/site-packages (from nbformat->notebook>=5.6.0->jupyterthemes) (2.6.0)\n",
      "Requirement already satisfied: MarkupSafe>=0.23 in /home/ec2-user/anaconda3/envs/amazonei_mxnet_p27/lib/python2.7/site-packages (from jinja2->notebook>=5.6.0->jupyterthemes) (1.0)\n",
      "Requirement already satisfied: futures in /home/ec2-user/anaconda3/envs/amazonei_mxnet_p27/lib/python2.7/site-packages (from tornado<7,>=4.1->notebook>=5.6.0->jupyterthemes) (3.2.0)\n",
      "Requirement already satisfied: singledispatch in /home/ec2-user/anaconda3/envs/amazonei_mxnet_p27/lib/python2.7/site-packages (from tornado<7,>=4.1->notebook>=5.6.0->jupyterthemes) (3.4.0.3)\n",
      "Requirement already satisfied: backports_abc>=0.4 in /home/ec2-user/anaconda3/envs/amazonei_mxnet_p27/lib/python2.7/site-packages (from tornado<7,>=4.1->notebook>=5.6.0->jupyterthemes) (0.5)\n",
      "Requirement already satisfied: enum34 in /home/ec2-user/anaconda3/envs/amazonei_mxnet_p27/lib/python2.7/site-packages (from traitlets>=4.2.1->notebook>=5.6.0->jupyterthemes) (1.1.6)\n",
      "Requirement already satisfied: mistune>=0.8.1 in /home/ec2-user/anaconda3/envs/amazonei_mxnet_p27/lib/python2.7/site-packages (from nbconvert->notebook>=5.6.0->jupyterthemes) (0.8.3)\n",
      "Requirement already satisfied: entrypoints>=0.2.2 in /home/ec2-user/anaconda3/envs/amazonei_mxnet_p27/lib/python2.7/site-packages (from nbconvert->notebook>=5.6.0->jupyterthemes) (0.2.3)\n",
      "Requirement already satisfied: bleach in /home/ec2-user/anaconda3/envs/amazonei_mxnet_p27/lib/python2.7/site-packages (from nbconvert->notebook>=5.6.0->jupyterthemes) (2.1.3)\n",
      "Requirement already satisfied: pandocfilters>=1.4.1 in /home/ec2-user/anaconda3/envs/amazonei_mxnet_p27/lib/python2.7/site-packages (from nbconvert->notebook>=5.6.0->jupyterthemes) (1.4.2)\n",
      "Requirement already satisfied: testpath in /home/ec2-user/anaconda3/envs/amazonei_mxnet_p27/lib/python2.7/site-packages (from nbconvert->notebook>=5.6.0->jupyterthemes) (0.3.1)\n",
      "Requirement already satisfied: defusedxml in /home/ec2-user/anaconda3/envs/amazonei_mxnet_p27/lib/python2.7/site-packages (from nbconvert->notebook>=5.6.0->jupyterthemes) (0.6.0)\n",
      "Requirement already satisfied: scandir in /home/ec2-user/anaconda3/envs/amazonei_mxnet_p27/lib/python2.7/site-packages (from pathlib2; python_version == \"2.7\" or python_version == \"3.3\"->ipython>=5.4.1->jupyterthemes) (1.7)\n",
      "Requirement already satisfied: ptyprocess>=0.5 in /home/ec2-user/anaconda3/envs/amazonei_mxnet_p27/lib/python2.7/site-packages (from pexpect; sys_platform != \"win32\"->ipython>=5.4.1->jupyterthemes) (0.5.2)\n",
      "Requirement already satisfied: wcwidth in /home/ec2-user/anaconda3/envs/amazonei_mxnet_p27/lib/python2.7/site-packages (from prompt-toolkit<2.0.0,>=1.0.4->ipython>=5.4.1->jupyterthemes) (0.1.7)\n",
      "Requirement already satisfied: functools32 in /home/ec2-user/anaconda3/envs/amazonei_mxnet_p27/lib/python2.7/site-packages (from jsonschema!=2.5.0,>=2.4->nbformat->notebook>=5.6.0->jupyterthemes) (3.2.3.post2)\n",
      "Requirement already satisfied: html5lib!=1.0b1,!=1.0b2,!=1.0b3,!=1.0b4,!=1.0b5,!=1.0b6,!=1.0b7,!=1.0b8,>=0.99999999pre in /home/ec2-user/anaconda3/envs/amazonei_mxnet_p27/lib/python2.7/site-packages (from bleach->nbconvert->notebook>=5.6.0->jupyterthemes) (1.0.1)\n",
      "Requirement already satisfied: webencodings in /home/ec2-user/anaconda3/envs/amazonei_mxnet_p27/lib/python2.7/site-packages (from html5lib!=1.0b1,!=1.0b2,!=1.0b3,!=1.0b4,!=1.0b5,!=1.0b6,!=1.0b7,!=1.0b8,>=0.99999999pre->bleach->nbconvert->notebook>=5.6.0->jupyterthemes) (0.5.1)\n",
      "Building wheels for collected packages: prometheus-client\n",
      "  Running setup.py bdist_wheel for prometheus-client ... \u001b[?25ldone\n",
      "\u001b[?25h  Stored in directory: /home/ec2-user/.cache/pip/wheels/1c/54/34/fd47cd9b308826cc4292b54449c1899a30251ef3b506bc91ea\n",
      "Successfully built prometheus-client\n",
      "\u001b[31mtyping-extensions 3.7.4.1 has requirement typing>=3.7.4; python_version < \"3.5\", but you'll have typing 3.6.4 which is incompatible.\u001b[0m\n",
      "Installing collected packages: prometheus-client, notebook, lesscpy, jupyterthemes\n",
      "  Found existing installation: notebook 5.5.0\n",
      "    Uninstalling notebook-5.5.0:\n",
      "      Successfully uninstalled notebook-5.5.0\n",
      "Successfully installed jupyterthemes-0.20.0 lesscpy-0.14.0 notebook-5.7.8 prometheus-client-0.7.1\n",
      "\u001b[33mYou are using pip version 10.0.1, however version 20.1b1 is available.\n",
      "You should consider upgrading via the 'pip install --upgrade pip' command.\u001b[0m\n"
     ]
    }
   ],
   "source": [
    "!pip install jupyterthemes\n",
    "from jupyterthemes import get_themes\n",
    "from jupyterthemes.stylefx import set_nb_theme\n",
    "set_nb_theme('oceans16')\n",
    "!jt -t oceans16"
   ]
  },
  {
   "cell_type": "code",
   "execution_count": 2,
   "metadata": {},
   "outputs": [],
   "source": [
    "from IPython.display import display, Markdown, Image"
   ]
  },
  {
   "cell_type": "code",
   "execution_count": 3,
   "metadata": {},
   "outputs": [],
   "source": [
    "image_bucket = 'global-noaa'"
   ]
  },
  {
   "cell_type": "code",
   "execution_count": 4,
   "metadata": {},
   "outputs": [],
   "source": [
    "def show_image(bucket, key, img_width = 500):\n",
    "    return Image(url='https://s3.amazonaws.com/' + bucket + '/' + key, width=img_width)\n"
   ]
  },
  {
   "cell_type": "code",
   "execution_count": 5,
   "metadata": {},
   "outputs": [
    {
     "data": {
      "text/html": [
       "<img src=\"https://s3.amazonaws.com/global-noaa/NOAA.png\" width=\"400\"/>"
      ],
      "text/plain": [
       "<IPython.core.display.Image object>"
      ]
     },
     "execution_count": 5,
     "metadata": {},
     "output_type": "execute_result"
    }
   ],
   "source": [
    "show_image(image_bucket, 'NOAA.png', 400)"
   ]
  },
  {
   "cell_type": "markdown",
   "metadata": {},
   "source": [
    "# Motivation Behind This Project\n",
    "\n",
    "With the increasing urgency for us, as citizens of the world, to pay attention to the ways in which our planet is changing before us, it is imperative that we pay attention to the data that we do have. As April 22, 2020 was Earth Day, we thought it was opportune to look at the NOAA Integrated Surface Database (ISD) that can be found on Amazon Web Service’s open data registry. This data is compiled from a series of over 35,000 stations worldwide, and is constantly being updated daily. \n",
    "\n",
    "We decided that in an effort to create a cohesive understanding of our climate over time, it would be appropriate to compare a weather station over multiple years and various observations. This way, with the same elevation and location at our disposal, we might be able to locate possible trends or differences in the output of our findings as well as the frequency of observations. We thought that it might be interesting to look at Sirte, Libya, as our location of interest. This station location has consistently had weather data available across several decades. Sirte is a coast city located in Northern Libya. As a place that gets a mixture of climate being in a desert and located adjacent to the Mediterranean, we thought that this might be an interesting climate to analyze.\n",
    "\n",
    "The NOAA, which is our National Ocean and Atmospheric Administration, is a federal U.S. agency that is responsible for monitoring and trying to improve our environment and climate. The NOAA data is responsible for driving industries worth billions of dollars as well important research initiatives. Through public accessibility, NOAA hopes to cultivate a system of innovation among data scientists and environmentalists alike. As individuals of this targeted audience of data science users, we thought it would be interesting and inspiring to see what we could do with data of this magnitude and importance at our disposal."
   ]
  },
  {
   "cell_type": "code",
   "execution_count": 7,
   "metadata": {},
   "outputs": [
    {
     "data": {
      "text/html": [
       "<img src=\"https://s3.amazonaws.com/global-noaa/sirte.png\" width=\"400\"/>"
      ],
      "text/plain": [
       "<IPython.core.display.Image object>"
      ]
     },
     "execution_count": 7,
     "metadata": {},
     "output_type": "execute_result"
    }
   ],
   "source": [
    "show_image(image_bucket, 'sirte.png', 400)"
   ]
  },
  {
   "cell_type": "markdown",
   "metadata": {},
   "source": [
    "# Analysis\n",
    "\n",
    "### Setting Up Our Notebook\n",
    "\n",
    "We used the template notebooks provided in class to help assist us in the creation of our own blog dedicated to NOAA’s surface temperature research. These templates can be found in Manav Seghal’s repository dedicated AWS open data. These include “Exploring data with Python and Amazon S3 select” https://github.com/aws-samples/aws-open-data-analytics-notebooks/tree/master/exploring-data as well as using “AI Services for Analyzing Public Data” https://github.com/aws-samples/aws-open-data-analytics-notebooks/tree/master/ai-services/. These notebooks helped us better frame our blog as they served as a jumpstart toward our researching techniques.\n",
    "\n",
    "Above, we also created an S3 bucket to store the pictures we are including in this Jupyter and named it global-noaa.\n",
    "\n",
    "To begin our analysis of this data, we went through a series of steps to set up our notebook environment and the tools that we would need to import the large database into our SageMaker. This included importing boto3, botocore, pandas, display, and Markdown (just to start)."
   ]
  },
  {
   "cell_type": "code",
   "execution_count": 8,
   "metadata": {},
   "outputs": [],
   "source": [
    "import boto3\n",
    "import botocore\n",
    "import pandas as pd"
   ]
  },
  {
   "cell_type": "markdown",
   "metadata": {},
   "source": [
    "We created an S3 bucket that we wanted to work with, and named it after the name of the dataset we would be using so that it would be easy to discern."
   ]
  },
  {
   "cell_type": "code",
   "execution_count": 9,
   "metadata": {},
   "outputs": [],
   "source": [
    "s3 = boto3.client('s3')\n",
    "s3_resource = boto3.resource('s3')"
   ]
  },
  {
   "cell_type": "code",
   "execution_count": 10,
   "metadata": {},
   "outputs": [],
   "source": [
    "def create_bucket(bucket):\n",
    "    import logging\n",
    "\n",
    "    try:\n",
    "        s3.create_bucket(Bucket=bucket)\n",
    "    except botocore.exceptions.ClientError as e:\n",
    "        logging.error(e)\n",
    "        return 'Bucket ' + bucket + ' could not be created.'\n",
    "    return 'Created or already exists ' + bucket + ' bucket.'"
   ]
  },
  {
   "cell_type": "markdown",
   "metadata": {},
   "source": [
    "### Getting the Data\n",
    "\n",
    "Using the Amazon Resource Name (ARN), listed in both the online data AWS registry and the github repository containing all of the open-access dataset, we pulled the dataset that we wanted. Our bucket that we pulled using the ARN for this particular dataset was called “global-noaa-hourly-pds”. From this, we were able to import and download the exact CSV files that we wanted to work with. The particular station number that we decided to look at was “62019099999” which is located in Sirte, Libya."
   ]
  },
  {
   "cell_type": "code",
   "execution_count": 12,
   "metadata": {},
   "outputs": [
    {
     "data": {
      "text/plain": [
       "'Created or already exists open-data-analytics-noaa-globalqtm350 bucket.'"
      ]
     },
     "execution_count": 12,
     "metadata": {},
     "output_type": "execute_result"
    }
   ],
   "source": [
    "create_bucket('open-data-analytics-noaa-globalqtm350')"
   ]
  },
  {
   "cell_type": "code",
   "execution_count": 16,
   "metadata": {},
   "outputs": [
    {
     "ename": "SyntaxError",
     "evalue": "invalid syntax (<ipython-input-16-d48af1f96675>, line 4)",
     "output_type": "error",
     "traceback": [
      "\u001b[0;36m  File \u001b[0;32m\"<ipython-input-16-d48af1f96675>\"\u001b[0;36m, line \u001b[0;32m4\u001b[0m\n\u001b[0;31m    print(f'Existing buckets containing \"{match}\" string:')\u001b[0m\n\u001b[0m                                                         ^\u001b[0m\n\u001b[0;31mSyntaxError\u001b[0m\u001b[0;31m:\u001b[0m invalid syntax\n"
     ]
    }
   ],
   "source": [
    "def list_buckets(match=''):\n",
    "    response = s3.list_ibuckets()\n",
    "    if match:\n",
    "        print(f'Existing buckets containing \"{match}\" string:')\n",
    "    else:\n",
    "        print('All existing buckets:')\n",
    "    for bucket in response['Buckets']:\n",
    "        if match:\n",
    "            if match in bucket[\"Name\"]:\n",
    "                print(f'  {bucket[\"Name\"]}')"
   ]
  },
  {
   "cell_type": "code",
   "execution_count": 17,
   "metadata": {},
   "outputs": [
    {
     "ename": "NameError",
     "evalue": "name 'list_buckets' is not defined",
     "output_type": "error",
     "traceback": [
      "\u001b[0;31m\u001b[0m",
      "\u001b[0;31mNameError\u001b[0mTraceback (most recent call last)",
      "\u001b[0;32m<ipython-input-17-f7b6a70f7416>\u001b[0m in \u001b[0;36m<module>\u001b[0;34m()\u001b[0m\n\u001b[0;32m----> 1\u001b[0;31m \u001b[0mlist_buckets\u001b[0m\u001b[0;34m(\u001b[0m\u001b[0mmatch\u001b[0m\u001b[0;34m=\u001b[0m\u001b[0;34m'open'\u001b[0m\u001b[0;34m)\u001b[0m\u001b[0;34m\u001b[0m\u001b[0m\n\u001b[0m",
      "\u001b[0;31mNameError\u001b[0m: name 'list_buckets' is not defined"
     ]
    }
   ],
   "source": [
    "list_buckets(match='open')"
   ]
  },
  {
   "cell_type": "code",
   "execution_count": 18,
   "metadata": {},
   "outputs": [
    {
     "ename": "SyntaxError",
     "evalue": "invalid syntax (<ipython-input-18-a91419a8d7dd>, line 19)",
     "output_type": "error",
     "traceback": [
      "\u001b[0;36m  File \u001b[0;32m\"<ipython-input-18-a91419a8d7dd>\"\u001b[0;36m, line \u001b[0;32m19\u001b[0m\n\u001b[0;31m    print(f'{key.key} ({key_size_mb:3.0f}MB)')\u001b[0m\n\u001b[0m                                            ^\u001b[0m\n\u001b[0;31mSyntaxError\u001b[0m\u001b[0;31m:\u001b[0m invalid syntax\n"
     ]
    }
   ],
   "source": [
    "def list_bucket_contents(bucket, match='', size_mb=0):\n",
    "    bucket_resource = s3_resource.Bucket(bucket)\n",
    "    total_size_gb = 0\n",
    "    total_files = 0\n",
    "    match_size_gb = 0\n",
    "    match_files = 0\n",
    "    for key in bucket_resource.objects.all():\n",
    "        key_size_mb = key.size/1024/1024\n",
    "        total_size_gb += key_size_mb\n",
    "        total_files += 1\n",
    "        list_check = False\n",
    "        if not match:\n",
    "            list_check = True\n",
    "        elif match in key.key:\n",
    "            list_check = True\n",
    "        if list_check and not size_mb:\n",
    "            match_files += 1\n",
    "            match_size_gb += key_size_mb\n",
    "            print(f'{key.key} ({key_size_mb:3.0f}MB)')\n",
    "        elif list_check and key_size_mb <= size_mb:\n",
    "            match_files += 1\n",
    "            match_size_gb += key_size_mb\n",
    "            print(f'{key.key} ({key_size_mb:3.0f}MB)')\n",
    "\n",
    "    if match:\n",
    "        print(f'Matched file size is {match_size_gb/1024:3.1f}GB with {match_files} files')            \n",
    "    \n",
    "    print(f'Bucket {bucket} total size is {total_size_gb/1024:3.1f}GB with {total_files} files')"
   ]
  },
  {
   "cell_type": "code",
   "execution_count": 19,
   "metadata": {},
   "outputs": [],
   "source": [
    "#str(list_bucket_contents(bucket='noaa-global-hourly-pds', match='', size_mb=250)).split()"
   ]
  },
  {
   "cell_type": "markdown",
   "metadata": {},
   "source": [
    "The command above lists the contents and data size of each bucket; we put this command in markdown for now as it produces a huge number of CSV files. We do not need to run this command everytime for our jupyter notebook to successfully run. We will not run this for now as it will save a lot of space and scrolling in our jupyter notebook for our personal convenience and the convenience of any reader or user."
   ]
  },
  {
   "cell_type": "code",
   "execution_count": 20,
   "metadata": {},
   "outputs": [
    {
     "data": {
      "text/html": [
       "<img src=\"https://s3.amazonaws.com/global-noaa/earth1.jpg\" width=\"600\"/>"
      ],
      "text/plain": [
       "<IPython.core.display.Image object>"
      ]
     },
     "execution_count": 20,
     "metadata": {},
     "output_type": "execute_result"
    }
   ],
   "source": [
    "show_image(image_bucket, 'earth1.jpg', 600)"
   ]
  },
  {
   "cell_type": "markdown",
   "metadata": {},
   "source": [
    "Our Earth is our most vital asset; it is upon us to take care of our planet to the best of our ability. The data that NOAA collects is vital for the purpose of informing environmentalists and common citizens, in general, as well as pushing forth important policies to better our planet. Below, we will run code to preview and import our datasets so that we might look and analyze the specific numerical data collected by NOAA. Having free access to this data is an opportunity for us as students to hit the ground run with understanding global climate change trends as well as proposing new initiatives and campaigns to help our Earth."
   ]
  },
  {
   "cell_type": "code",
   "execution_count": 21,
   "metadata": {},
   "outputs": [],
   "source": [
    "def preview_csv_dataset(bucket, key, rows=10):\n",
    "    data_source = {\n",
    "            'Bucket': bucket,\n",
    "            'Key': key\n",
    "        }\n",
    "    # Generate the URL to get Key from Bucket\n",
    "    url = s3.generate_presigned_url(\n",
    "        ClientMethod = 'get_object',\n",
    "        Params = data_source\n",
    "    )\n",
    "\n",
    "    data = pd.read_csv(url, nrows=rows)\n",
    "    return data"
   ]
  },
  {
   "cell_type": "markdown",
   "metadata": {},
   "source": [
    "From here, we combined all of our datasets that we were using into a single data frame using the append command. At this point, we decided to make several manipulations of our dataset in order to better understand climate trends. Our data that we combined looked at the same station in Libya sampled every ten years. From these observations, we were able to note and pick apart a variety of trends that we saw among the data."
   ]
  },
  {
   "cell_type": "code",
   "execution_count": 31,
   "metadata": {},
   "outputs": [],
   "source": [
    "# create starting data frame: station 62019099999, year 1950\n",
    "df = preview_csv_dataset(bucket='noaa-global-hourly-pds', key= '1950/62019099999.csv', rows=100)\n",
    "\n",
    "# create new column for year\n",
    "df['YEAR'] = '1950'"
   ]
  },
  {
   "cell_type": "markdown",
   "metadata": {},
   "source": [
    "Here, we manually selected the years we wanted to work with in order to combine multiple data frames. Ideally, we would have automatically iterated through every ten years to select our data. Unfortunately, data is not necessarily available for every year, such as 1970. A list of specific years, one for each available decade, was manually created based on what yearly data we could find to approximate information for every ten years."
   ]
  },
  {
   "cell_type": "code",
   "execution_count": 32,
   "metadata": {},
   "outputs": [
    {
     "name": "stderr",
     "output_type": "stream",
     "text": [
      "/home/ec2-user/anaconda3/envs/amazonei_mxnet_p27/lib/python2.7/site-packages/ipykernel/__main__.py:7: FutureWarning: Sorting because non-concatenation axis is not aligned. A future version\n",
      "of pandas will change to not sort by default.\n",
      "\n",
      "To accept the future behavior, pass 'sort=False'.\n",
      "\n",
      "To retain the current behavior and silence the warning, pass 'sort=True'.\n",
      "\n"
     ]
    }
   ],
   "source": [
    "# Looking at station 62019099999\n",
    "# Manually select and combine every 10 years of station's data\n",
    "year_list = [1960, 1973, 1980, 1990, 2000, 2010, 2020]\n",
    "for year in year_list:\n",
    "    df_temp = preview_csv_dataset(bucket='noaa-global-hourly-pds', key= str(year) + '/62019099999.csv', rows=100)\n",
    "    df_temp['YEAR'] = str(year)\n",
    "    df = pd.concat([df, df_temp])"
   ]
  },
  {
   "cell_type": "markdown",
   "metadata": {},
   "source": [
    "The commands run below produces our combined dataframe, which pulls climate samples from the same station in Libya about every 10 years"
   ]
  },
  {
   "cell_type": "code",
   "execution_count": 33,
   "metadata": {},
   "outputs": [
    {
     "data": {
      "text/html": [
       "<div>\n",
       "<style scoped>\n",
       "    .dataframe tbody tr th:only-of-type {\n",
       "        vertical-align: middle;\n",
       "    }\n",
       "\n",
       "    .dataframe tbody tr th {\n",
       "        vertical-align: top;\n",
       "    }\n",
       "\n",
       "    .dataframe thead th {\n",
       "        text-align: right;\n",
       "    }\n",
       "</style>\n",
       "<table border=\"1\" class=\"dataframe\">\n",
       "  <thead>\n",
       "    <tr style=\"text-align: right;\">\n",
       "      <th></th>\n",
       "      <th>STATION</th>\n",
       "      <th>DATE</th>\n",
       "      <th>YEAR</th>\n",
       "      <th>SOURCE</th>\n",
       "      <th>LATITUDE</th>\n",
       "      <th>LONGITUDE</th>\n",
       "      <th>TMP</th>\n",
       "      <th>ELEVATION</th>\n",
       "      <th>WND</th>\n",
       "      <th>NAME</th>\n",
       "    </tr>\n",
       "  </thead>\n",
       "  <tbody>\n",
       "    <tr>\n",
       "      <th>0</th>\n",
       "      <td>62019099999</td>\n",
       "      <td>1950-01-03T12:00:00</td>\n",
       "      <td>1950</td>\n",
       "      <td>4</td>\n",
       "      <td>31.2</td>\n",
       "      <td>16.583333</td>\n",
       "      <td>+0178,1</td>\n",
       "      <td>14.0</td>\n",
       "      <td>270,1,N,0026,1</td>\n",
       "      <td>SIRTE, LY</td>\n",
       "    </tr>\n",
       "    <tr>\n",
       "      <th>1</th>\n",
       "      <td>62019099999</td>\n",
       "      <td>1950-01-04T12:00:00</td>\n",
       "      <td>1950</td>\n",
       "      <td>4</td>\n",
       "      <td>31.2</td>\n",
       "      <td>16.583333</td>\n",
       "      <td>+0167,1</td>\n",
       "      <td>14.0</td>\n",
       "      <td>290,1,N,0067,1</td>\n",
       "      <td>SIRTE, LY</td>\n",
       "    </tr>\n",
       "    <tr>\n",
       "      <th>2</th>\n",
       "      <td>62019099999</td>\n",
       "      <td>1950-01-06T12:00:00</td>\n",
       "      <td>1950</td>\n",
       "      <td>4</td>\n",
       "      <td>31.2</td>\n",
       "      <td>16.583333</td>\n",
       "      <td>+0144,1</td>\n",
       "      <td>14.0</td>\n",
       "      <td>110,1,N,0046,1</td>\n",
       "      <td>SIRTE, LY</td>\n",
       "    </tr>\n",
       "    <tr>\n",
       "      <th>3</th>\n",
       "      <td>62019099999</td>\n",
       "      <td>1950-01-08T12:00:00</td>\n",
       "      <td>1950</td>\n",
       "      <td>4</td>\n",
       "      <td>31.2</td>\n",
       "      <td>16.583333</td>\n",
       "      <td>+0189,1</td>\n",
       "      <td>14.0</td>\n",
       "      <td>340,1,N,0046,1</td>\n",
       "      <td>SIRTE, LY</td>\n",
       "    </tr>\n",
       "    <tr>\n",
       "      <th>4</th>\n",
       "      <td>62019099999</td>\n",
       "      <td>1950-01-09T12:00:00</td>\n",
       "      <td>1950</td>\n",
       "      <td>4</td>\n",
       "      <td>31.2</td>\n",
       "      <td>16.583333</td>\n",
       "      <td>+0161,1</td>\n",
       "      <td>14.0</td>\n",
       "      <td>230,1,N,0010,1</td>\n",
       "      <td>SIRTE, LY</td>\n",
       "    </tr>\n",
       "    <tr>\n",
       "      <th>5</th>\n",
       "      <td>62019099999</td>\n",
       "      <td>1950-01-11T12:00:00</td>\n",
       "      <td>1950</td>\n",
       "      <td>4</td>\n",
       "      <td>31.2</td>\n",
       "      <td>16.583333</td>\n",
       "      <td>+0267,1</td>\n",
       "      <td>14.0</td>\n",
       "      <td>080,1,N,0026,1</td>\n",
       "      <td>SIRTE, LY</td>\n",
       "    </tr>\n",
       "    <tr>\n",
       "      <th>6</th>\n",
       "      <td>62019099999</td>\n",
       "      <td>1950-01-12T12:00:00</td>\n",
       "      <td>1950</td>\n",
       "      <td>4</td>\n",
       "      <td>31.2</td>\n",
       "      <td>16.583333</td>\n",
       "      <td>+0172,1</td>\n",
       "      <td>14.0</td>\n",
       "      <td>310,1,N,0010,1</td>\n",
       "      <td>SIRTE, LY</td>\n",
       "    </tr>\n",
       "    <tr>\n",
       "      <th>7</th>\n",
       "      <td>62019099999</td>\n",
       "      <td>1950-01-13T12:00:00</td>\n",
       "      <td>1950</td>\n",
       "      <td>4</td>\n",
       "      <td>31.2</td>\n",
       "      <td>16.583333</td>\n",
       "      <td>+0172,1</td>\n",
       "      <td>14.0</td>\n",
       "      <td>050,1,N,0031,1</td>\n",
       "      <td>SIRTE, LY</td>\n",
       "    </tr>\n",
       "    <tr>\n",
       "      <th>8</th>\n",
       "      <td>62019099999</td>\n",
       "      <td>1950-01-17T12:00:00</td>\n",
       "      <td>1950</td>\n",
       "      <td>4</td>\n",
       "      <td>31.2</td>\n",
       "      <td>16.583333</td>\n",
       "      <td>+0161,1</td>\n",
       "      <td>14.0</td>\n",
       "      <td>200,1,N,0046,1</td>\n",
       "      <td>SIRTE, LY</td>\n",
       "    </tr>\n",
       "    <tr>\n",
       "      <th>9</th>\n",
       "      <td>62019099999</td>\n",
       "      <td>1950-01-18T12:00:00</td>\n",
       "      <td>1950</td>\n",
       "      <td>4</td>\n",
       "      <td>31.2</td>\n",
       "      <td>16.583333</td>\n",
       "      <td>+9999,9</td>\n",
       "      <td>14.0</td>\n",
       "      <td>160,1,N,0026,1</td>\n",
       "      <td>SIRTE, LY</td>\n",
       "    </tr>\n",
       "  </tbody>\n",
       "</table>\n",
       "</div>"
      ],
      "text/plain": [
       "       STATION                 DATE  YEAR  SOURCE  LATITUDE  LONGITUDE  \\\n",
       "0  62019099999  1950-01-03T12:00:00  1950       4      31.2  16.583333   \n",
       "1  62019099999  1950-01-04T12:00:00  1950       4      31.2  16.583333   \n",
       "2  62019099999  1950-01-06T12:00:00  1950       4      31.2  16.583333   \n",
       "3  62019099999  1950-01-08T12:00:00  1950       4      31.2  16.583333   \n",
       "4  62019099999  1950-01-09T12:00:00  1950       4      31.2  16.583333   \n",
       "5  62019099999  1950-01-11T12:00:00  1950       4      31.2  16.583333   \n",
       "6  62019099999  1950-01-12T12:00:00  1950       4      31.2  16.583333   \n",
       "7  62019099999  1950-01-13T12:00:00  1950       4      31.2  16.583333   \n",
       "8  62019099999  1950-01-17T12:00:00  1950       4      31.2  16.583333   \n",
       "9  62019099999  1950-01-18T12:00:00  1950       4      31.2  16.583333   \n",
       "\n",
       "       TMP  ELEVATION             WND       NAME  \n",
       "0  +0178,1       14.0  270,1,N,0026,1  SIRTE, LY  \n",
       "1  +0167,1       14.0  290,1,N,0067,1  SIRTE, LY  \n",
       "2  +0144,1       14.0  110,1,N,0046,1  SIRTE, LY  \n",
       "3  +0189,1       14.0  340,1,N,0046,1  SIRTE, LY  \n",
       "4  +0161,1       14.0  230,1,N,0010,1  SIRTE, LY  \n",
       "5  +0267,1       14.0  080,1,N,0026,1  SIRTE, LY  \n",
       "6  +0172,1       14.0  310,1,N,0010,1  SIRTE, LY  \n",
       "7  +0172,1       14.0  050,1,N,0031,1  SIRTE, LY  \n",
       "8  +0161,1       14.0  200,1,N,0046,1  SIRTE, LY  \n",
       "9  +9999,9       14.0  160,1,N,0026,1  SIRTE, LY  "
      ]
     },
     "execution_count": 33,
     "metadata": {},
     "output_type": "execute_result"
    }
   ],
   "source": [
    "# clean up columns to eventually compare this station's data by year\n",
    "columns = ['STATION', 'DATE', 'YEAR', 'SOURCE','LATITUDE','LONGITUDE','TMP','ELEVATION','WND','NAME']\n",
    "df = pd.DataFrame(df, columns = columns)\n",
    "# Show first 10 row of dataframe to see what it looks like\n",
    "df.head(10)"
   ]
  },
  {
   "cell_type": "code",
   "execution_count": 34,
   "metadata": {},
   "outputs": [
    {
     "data": {
      "text/html": [
       "<img src=\"https://s3.amazonaws.com/global-noaa/ocean.jpg\" width=\"500\"/>"
      ],
      "text/plain": [
       "<IPython.core.display.Image object>"
      ]
     },
     "execution_count": 34,
     "metadata": {},
     "output_type": "execute_result"
    }
   ],
   "source": [
    "show_image(image_bucket, 'ocean.jpg', 500)"
   ]
  },
  {
   "cell_type": "markdown",
   "metadata": {},
   "source": [
    "### Cleaning the Data"
   ]
  },
  {
   "cell_type": "markdown",
   "metadata": {},
   "source": [
    "We wanted to focus our analysis on the 'TMP' or temperature variable.  Therefore we started our cleaning there."
   ]
  },
  {
   "cell_type": "code",
   "execution_count": 35,
   "metadata": {},
   "outputs": [],
   "source": [
    "# clean temperature column from NOAA format into degrees Celsius\n",
    "import re\n",
    "df['TMP-Celsius'] = df['TMP']\n",
    "df['TMP-Celsius'] = df['TMP-Celsius'].str.replace(r',\\d', '')\n",
    "df['TMP-Celsius'] = df['TMP-Celsius'].str.replace(r'\\+', '')\n",
    "df['TMP-Celsius'] = df['TMP-Celsius'].astype(float)\n",
    "df['TMP-Celsius'] = df['TMP-Celsius'] / 10"
   ]
  },
  {
   "cell_type": "markdown",
   "metadata": {},
   "source": [
    "Using our code above and the data from our appended dataframe, we formatted our temperature data in degrees Celsius so that it was easier to graph and deciper quickly.\n",
    "\n",
    "After formatting the temperature, we searched for possible outliers or errors in the data.  We were able to identify one and omit it from the dataset."
   ]
  },
  {
   "cell_type": "code",
   "execution_count": 37,
   "metadata": {},
   "outputs": [],
   "source": [
    "# ground temperatures are not 99 degrees Celsius - remove outlier rows\n",
    "indexNames = df[ df['TMP-Celsius'] == 999.9 ].index\n",
    "df = df.drop(indexNames , inplace=False)"
   ]
  },
  {
   "cell_type": "markdown",
   "metadata": {},
   "source": [
    "Next we found the summary statistics of temperature of each year in the dataset."
   ]
  },
  {
   "cell_type": "code",
   "execution_count": 38,
   "metadata": {},
   "outputs": [
    {
     "data": {
      "text/html": [
       "<div>\n",
       "<style scoped>\n",
       "    .dataframe tbody tr th:only-of-type {\n",
       "        vertical-align: middle;\n",
       "    }\n",
       "\n",
       "    .dataframe tbody tr th {\n",
       "        vertical-align: top;\n",
       "    }\n",
       "\n",
       "    .dataframe thead th {\n",
       "        text-align: right;\n",
       "    }\n",
       "</style>\n",
       "<table border=\"1\" class=\"dataframe\">\n",
       "  <thead>\n",
       "    <tr style=\"text-align: right;\">\n",
       "      <th></th>\n",
       "      <th>count</th>\n",
       "      <th>mean</th>\n",
       "      <th>std</th>\n",
       "      <th>min</th>\n",
       "      <th>25%</th>\n",
       "      <th>50%</th>\n",
       "      <th>75%</th>\n",
       "      <th>max</th>\n",
       "    </tr>\n",
       "    <tr>\n",
       "      <th>YEAR</th>\n",
       "      <th></th>\n",
       "      <th></th>\n",
       "      <th></th>\n",
       "      <th></th>\n",
       "      <th></th>\n",
       "      <th></th>\n",
       "      <th></th>\n",
       "      <th></th>\n",
       "    </tr>\n",
       "  </thead>\n",
       "  <tbody>\n",
       "    <tr>\n",
       "      <th>1950</th>\n",
       "      <td>82.0</td>\n",
       "      <td>21.708537</td>\n",
       "      <td>5.714292</td>\n",
       "      <td>15.0</td>\n",
       "      <td>17.200</td>\n",
       "      <td>19.4</td>\n",
       "      <td>25.000</td>\n",
       "      <td>39.4</td>\n",
       "    </tr>\n",
       "    <tr>\n",
       "      <th>1960</th>\n",
       "      <td>82.0</td>\n",
       "      <td>13.865854</td>\n",
       "      <td>3.202322</td>\n",
       "      <td>7.2</td>\n",
       "      <td>12.200</td>\n",
       "      <td>13.9</td>\n",
       "      <td>16.100</td>\n",
       "      <td>22.2</td>\n",
       "    </tr>\n",
       "    <tr>\n",
       "      <th>1973</th>\n",
       "      <td>82.0</td>\n",
       "      <td>14.817073</td>\n",
       "      <td>3.403441</td>\n",
       "      <td>7.0</td>\n",
       "      <td>13.000</td>\n",
       "      <td>15.0</td>\n",
       "      <td>17.000</td>\n",
       "      <td>25.0</td>\n",
       "    </tr>\n",
       "    <tr>\n",
       "      <th>1980</th>\n",
       "      <td>82.0</td>\n",
       "      <td>13.036585</td>\n",
       "      <td>3.422674</td>\n",
       "      <td>5.0</td>\n",
       "      <td>10.250</td>\n",
       "      <td>14.0</td>\n",
       "      <td>15.000</td>\n",
       "      <td>20.0</td>\n",
       "    </tr>\n",
       "    <tr>\n",
       "      <th>1990</th>\n",
       "      <td>82.0</td>\n",
       "      <td>14.487805</td>\n",
       "      <td>3.004416</td>\n",
       "      <td>8.0</td>\n",
       "      <td>12.300</td>\n",
       "      <td>15.5</td>\n",
       "      <td>17.000</td>\n",
       "      <td>20.0</td>\n",
       "    </tr>\n",
       "    <tr>\n",
       "      <th>2000</th>\n",
       "      <td>82.0</td>\n",
       "      <td>12.223171</td>\n",
       "      <td>2.031924</td>\n",
       "      <td>6.5</td>\n",
       "      <td>11.000</td>\n",
       "      <td>12.3</td>\n",
       "      <td>13.500</td>\n",
       "      <td>16.2</td>\n",
       "    </tr>\n",
       "    <tr>\n",
       "      <th>2010</th>\n",
       "      <td>82.0</td>\n",
       "      <td>16.978049</td>\n",
       "      <td>4.465506</td>\n",
       "      <td>6.8</td>\n",
       "      <td>14.625</td>\n",
       "      <td>17.0</td>\n",
       "      <td>19.275</td>\n",
       "      <td>29.5</td>\n",
       "    </tr>\n",
       "    <tr>\n",
       "      <th>2020</th>\n",
       "      <td>82.0</td>\n",
       "      <td>15.828049</td>\n",
       "      <td>3.016918</td>\n",
       "      <td>8.0</td>\n",
       "      <td>13.600</td>\n",
       "      <td>16.0</td>\n",
       "      <td>17.950</td>\n",
       "      <td>21.0</td>\n",
       "    </tr>\n",
       "  </tbody>\n",
       "</table>\n",
       "</div>"
      ],
      "text/plain": [
       "      count       mean       std   min     25%   50%     75%   max\n",
       "YEAR                                                              \n",
       "1950   82.0  21.708537  5.714292  15.0  17.200  19.4  25.000  39.4\n",
       "1960   82.0  13.865854  3.202322   7.2  12.200  13.9  16.100  22.2\n",
       "1973   82.0  14.817073  3.403441   7.0  13.000  15.0  17.000  25.0\n",
       "1980   82.0  13.036585  3.422674   5.0  10.250  14.0  15.000  20.0\n",
       "1990   82.0  14.487805  3.004416   8.0  12.300  15.5  17.000  20.0\n",
       "2000   82.0  12.223171  2.031924   6.5  11.000  12.3  13.500  16.2\n",
       "2010   82.0  16.978049  4.465506   6.8  14.625  17.0  19.275  29.5\n",
       "2020   82.0  15.828049  3.016918   8.0  13.600  16.0  17.950  21.0"
      ]
     },
     "execution_count": 38,
     "metadata": {},
     "output_type": "execute_result"
    }
   ],
   "source": [
    "# average temperature by year\n",
    "averages = df.groupby('YEAR')['TMP-Celsius'].mean()\n",
    "averages = pd.DataFrame(averages)\n",
    "sd = df.groupby('YEAR')['TMP-Celsius'].std()\n",
    "sd = pd.DataFrame(sd)\n",
    "sd = sd.rename(columns = {'TMP-Celsius': 'std'})\n",
    "averages = pd.merge(left=averages, right=sd, left_on='YEAR', right_on='YEAR')\n",
    "all = df.groupby('YEAR')['TMP-Celsius'].describe()\n",
    "\n",
    "all"
   ]
  },
  {
   "cell_type": "markdown",
   "metadata": {},
   "source": [
    "### Graphing our Data"
   ]
  },
  {
   "cell_type": "markdown",
   "metadata": {},
   "source": [
    "The first thing we wanted to do when plotting our data is to check if there are any outlier temperature values that we missed.  An easy way to do this is to plot the max and min values for each year, and see if all the values are in a reasonable range."
   ]
  },
  {
   "cell_type": "code",
   "execution_count": 40,
   "metadata": {},
   "outputs": [],
   "source": [
    "import matplotlib\n",
    "import matplotlib.pyplot as plt"
   ]
  },
  {
   "cell_type": "code",
   "execution_count": 41,
   "metadata": {},
   "outputs": [
    {
     "data": {
      "text/plain": [
       "<Figure size 3600x1440 with 0 Axes>"
      ]
     },
     "execution_count": 41,
     "metadata": {},
     "output_type": "execute_result"
    },
    {
     "data": {
      "image/png": "[encoded data removed]",
      "text/plain": [
       "<Figure size 432x288 with 1 Axes>"
      ]
     },
     "metadata": {},
     "output_type": "display_data"
    },
    {
     "data": {
      "text/plain": [
       "<Figure size 3600x1440 with 0 Axes>"
      ]
     },
     "metadata": {},
     "output_type": "display_data"
    }
   ],
   "source": [
    "plt.plot(all['min'])\n",
    "plt.plot(all['max'])\n",
    "plt.suptitle('Max and Min Temperature Over Time')\n",
    "plt.xlabel('Year')\n",
    "plt.ylabel('Temperature (Celsius)')\n",
    "plt.figure(figsize=(50,20))"
   ]
  },
  {
   "cell_type": "markdown",
   "metadata": {},
   "source": [
    "Looking at the above plot, all the max and min values seem to make sense, meaning there are no huge outliers."
   ]
  },
  {
   "cell_type": "code",
   "execution_count": 42,
   "metadata": {
    "jupyter": {
     "source_hidden": true
    }
   },
   "outputs": [],
   "source": [
    "# set up graphs\n",
    "import matplotlib\n",
    "import matplotlib.pyplot as plt\n",
    "import numpy as np\n",
    "import seaborn as sns\n",
    "from scipy.stats import sem "
   ]
  },
  {
   "cell_type": "code",
   "execution_count": 43,
   "metadata": {},
   "outputs": [
    {
     "data": {
      "text/plain": [
       "<Figure size 3600x1440 with 0 Axes>"
      ]
     },
     "execution_count": 43,
     "metadata": {},
     "output_type": "execute_result"
    },
    {
     "data": {
      "image/png": "[encoded data removed]",
      "text/plain": [
       "<Figure size 432x288 with 1 Axes>"
      ]
     },
     "metadata": {},
     "output_type": "display_data"
    },
    {
     "data": {
      "text/plain": [
       "<Figure size 3600x1440 with 0 Axes>"
      ]
     },
     "metadata": {},
     "output_type": "display_data"
    }
   ],
   "source": [
    "# graph temperatures with standard deviation across years\n",
    "\n",
    "years = [1950, 1960, 1973, 1980, 1990, 2000, 2010, 2020]\n",
    "average_temp = averages['TMP-Celsius']\n",
    "std = averages['std']\n",
    "plt.fill_between(years, averages['TMP-Celsius'] - averages['std'], averages['TMP-Celsius'] + averages['std'], color='b', alpha=0.2)\n",
    "plt.plot(years, average_temp)\n",
    "plt.suptitle('Average Temperature Over Time with Standard Deviation')\n",
    "plt.xlabel('Year')\n",
    "plt.ylabel('Temperature (Celsius)')\n",
    "plt.figure(figsize=(50,20))"
   ]
  },
  {
   "cell_type": "markdown",
   "metadata": {},
   "source": [
    "From the graph that we created above, we can see a sharp decline in average temperatures recorded in Sirte, Libya, over the course of the past seventy years. We typically imagine the concept of global warming as only capable of causing rising temperatures, that creates the loss of habitats for certain species of animals, particularly polar bears, as seen below. Climate changes can encompass a wide variety of different outcomes related to the degradation of our planet. The trend in declining temperatures in Libya that we see in our above graph can be related to a changing climate over time. While the graph above shows a trend of cooling temperatures, the observation period is not nearly long enough to suggest that there is a period of global cooling occurring. Rather, over hundreds of thousands of years, the temperature of our climate has increased; if we were to zoom out of this graph, we might see a very different trend and perception of the current state of our climate. Despite, the difficulty of such a small sample of time, we can see that there is still variability each year, and that our changing climate is very real.\n",
    "\n",
    "It is hard for us to say that what we have found consistent in Sirte is consistent with what we have experienced in our lives. Namely, this is due to the vast difference in climate between our home locations, life in the United States, and Sirte, Libya. As previously mentioned in our analysis, it becomes quite difficult to make any certain conclusions on global climate data within the past couple of decades. Climate change is quite real, but it is hard to draw a strong conclusion from data that is focused on a narrow portion of time. Nonetheless, the changes that we do see in average temperature are enough to suggest that the climate is malleable to our man-made influences. The beauty of this blog and the code that we have run in this Jupyter notebook is that it is applicable to everyone everywhere. No matter where someone lives, what they believe in, or how they use their time, we all are citizens of this planet. This means that we should be motivated by the climate of our planet and how our actions will affect its and our own future. \n",
    "\n",
    "Furthermore, the codes run on this notebook are interchangeable and easily customizable. For instance, if instead of Libya, we were interested in data from our own country or even our own city, we could simply change the number of the station. NOAA is globally recognized and responsible for climate data all over the world. Using this index of stations, https://www1.ncdc.noaa.gov/pub/data/noaa/isd-history.txt, one could easily obtain the corresponding station number of their interest and apply to the code cells that we used. Because the subsequent codes that parse apart different data manipulations and visualizations are equally applicable to any location, this code would be usable for all, as well. It is important to understand how climate change applies to our lives and cities and livelihoods in order to increase the motivation for positive change. Thus, it is critical that our Jupyter Notebook is easily accessible and relevant for the usage of any individual, not just those that engage in data science. Often, a wealth of different maps, graphs of data, and statistics can overwhelm and confuse many to the extent that the point of an argument or analysis misses its mark. By making our notebook accessible, replicable, and comprehensive, we hope to bridge this gap; it is important to help others understand what climate changes mean to them just as crucial as it is for us to personally grapple with this reality.\n"
   ]
  },
  {
   "cell_type": "code",
   "execution_count": 44,
   "metadata": {},
   "outputs": [
    {
     "data": {
      "text/html": [
       "<img src=\"https://s3.amazonaws.com/global-noaa/climatechange.jpg\" width=\"800\"/>"
      ],
      "text/plain": [
       "<IPython.core.display.Image object>"
      ]
     },
     "execution_count": 44,
     "metadata": {},
     "output_type": "execute_result"
    }
   ],
   "source": [
    "show_image(image_bucket, 'climatechange.jpg', 800)"
   ]
  },
  {
   "cell_type": "markdown",
   "metadata": {},
   "source": [
    "# Architecture of this Project\n",
    "\n",
    "Below we have listed our diagram that demonstrates the architecture we used to configure this notebook within Jupyter Lab. From this diagram, one can see that we utilized a variety of different resources, packages, and tools to create a functioning notebook using AWS dataset registry resources. We used the draw.io interface as a tool to create our diagram."
   ]
  },
  {
   "cell_type": "code",
   "execution_count": 45,
   "metadata": {},
   "outputs": [
    {
     "data": {
      "text/html": [
       "<img src=\"https://s3.amazonaws.com/global-noaa/diagram.png\" width=\"1000\"/>"
      ],
      "text/plain": [
       "<IPython.core.display.Image object>"
      ]
     },
     "execution_count": 45,
     "metadata": {},
     "output_type": "execute_result"
    }
   ],
   "source": [
    "show_image(image_bucket, 'diagram.png', 1000)"
   ]
  },
  {
   "cell_type": "markdown",
   "metadata": {},
   "source": [
    "From our diagram shown above, one can observe clearly that we used a variety of worldwide surface weather observations that have been integrated into a series of CSV files contained both on NOAA's databases and the AWS open registry online. From this point, we contained the data we imported in an S3 bucket as well as the images that we used to illustrate our blog and the purpose of our post. From here we used Amazon Rekognition as well. All of these configurations as well as our own personal data manipulation was done through the usage of Amazon SageMaker provided by Amazon Web Services. In order to complete the majority of our data manipulation we imported the usage of numpy, pandas, re, botocore, and more. For increased aesthetics and user interest, we formatted the display of our data and observations through the use of Jupyter themes. From this point, we used SageMaker to format our Jupyter notebook into an html page and stored it in a publicly accessible S3 bucket configured through our Amazon Web Services Console and user account.\n",
    "\n",
    "After producing the final version of our website that we wanted, it was pushed to the repository on which we jointly collaborated, entitled QTM-350. From here, we took the ipynb file that we had created and used SageMaker to convert it to a html file. This was completed through using the “jupyter nbconvert” which turned our file into the default file type--HTML. From here, we saved our work and then used an S3 bucket that had been configured through Amazon Web Services. We followed the instructions we had learned from a previous lecture in class as well as Test Yourself 8, which required the usage of S3 bucket configuration. From this, we were able to host a static website on an Amazon S3 bucket, where our website content can now be accessed. The final ipynb file can still be located on our shared GitHub repository, QTM-350, as well as other versions that show the cumulation of our work. Attached is the direct link to this repository: https://github.com/RachelShanahan/QTM-350."
   ]
  }
 ],
 "metadata": {
  "kernelspec": {
   "display_name": "conda_amazonei_mxnet_p27",
   "language": "python",
   "name": "conda_amazonei_mxnet_p27"
  },
  "language_info": {
   "codemirror_mode": {
    "name": "ipython",
    "version": 2
   },
   "file_extension": ".py",
   "mimetype": "text/x-python",
   "name": "python",
   "nbconvert_exporter": "python",
   "pygments_lexer": "ipython2",
   "version": "2.7.15"
  }
 },
 "nbformat": 4,
 "nbformat_minor": 4
}
